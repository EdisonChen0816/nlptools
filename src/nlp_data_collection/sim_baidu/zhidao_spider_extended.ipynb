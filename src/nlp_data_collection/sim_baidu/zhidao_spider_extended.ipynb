{
 "cells": [
  {
   "cell_type": "code",
   "execution_count": 1,
   "metadata": {},
   "outputs": [],
   "source": [
    "import urllib\n",
    "import re\n",
    "import time\n",
    "import traceback\n",
    "import requests\n",
    "from urllib.parse import quote\n",
    "from bs4 import BeautifulSoup\n",
    "import time\n",
    "import os"
   ]
  },
  {
   "cell_type": "code",
   "execution_count": 2,
   "metadata": {},
   "outputs": [],
   "source": [
    "import pickle"
   ]
  },
  {
   "cell_type": "code",
   "execution_count": 3,
   "metadata": {},
   "outputs": [],
   "source": [
    "#raw_data = pickle.load(open('./resutls_new.pkl', 'rb'))\n",
    "raw_data = pickle.load(open('./resutls_20220927.pkl', 'rb'))"
   ]
  },
  {
   "cell_type": "code",
   "execution_count": null,
   "metadata": {},
   "outputs": [],
   "source": []
  },
  {
   "cell_type": "code",
   "execution_count": 4,
   "metadata": {},
   "outputs": [],
   "source": [
    "import logging\n",
    "def init_logger(log_file):\n",
    "    logger = logging.getLogger()\n",
    "    logger.setLevel('DEBUG')\n",
    "    basic_format = '%(asctime)s:%(levelname)s:>>>%(message)s'\n",
    "    date_format = '%Y-%m-%d %H:%M:%S'\n",
    "    formatter = logging.Formatter(basic_format, date_format)\n",
    "\n",
    "    chlr = logging.StreamHandler()\n",
    "    chlr.setLevel('DEBUG')\n",
    "    chlr.setFormatter(formatter)\n",
    "\n",
    "    fhlr = logging.FileHandler(log_file)\n",
    "    fhlr.setLevel('DEBUG')\n",
    "    fhlr.setFormatter(formatter)\n",
    "\n",
    "    logger.addHandler(fhlr)\n",
    "    logger.addHandler(chlr)\n",
    "    return logger"
   ]
  },
  {
   "cell_type": "code",
   "execution_count": 5,
   "metadata": {},
   "outputs": [],
   "source": [
    "import re\n",
    "class Filter:\n",
    "    def __init__(self, is_filt_dots_prefix=True, is_filt_kuohu_prefix=True, is_filt_dots_end=True):\n",
    "        self.is_filt_dots_prefix = is_filt_dots_prefix\n",
    "        self.is_filt_kuohu_prefix = is_filt_kuohu_prefix\n",
    "        self.is_filt_dots_end = is_filt_dots_end\n",
    "    def __call__(self, text):\n",
    "        if self.is_filt_dots_prefix and self.filt_dots_prefix(text):\n",
    "            return True\n",
    "        if self.is_filt_kuohu_prefix and self.filt_kuohu_prefix(text):\n",
    "            return True\n",
    "        if self.is_filt_dots_end and self.filt_dots_end(text):\n",
    "            return True\n",
    "        return False\n",
    "    def filt_dots_prefix(self, text):\n",
    "        return text.startswith('.')\n",
    "    def filt_kuohu_prefix(self, text):\n",
    "        return text.startswith(')')\n",
    "    def filt_dots_end(self, text):\n",
    "        return text.endswith('...')\n",
    "\n",
    "import re\n",
    "class Cleaner:\n",
    "    def __init__(self, is_clean_strip=True, is_clean_utf8=True):\n",
    "        self.is_clean_strip = is_clean_strip\n",
    "        self.is_clean_utf8 = is_clean_utf8\n",
    "    def __call__(self, text):\n",
    "        if self.is_clean_strip:\n",
    "            text = self.clean_strip(text)\n",
    "        if self.is_clean_utf8:\n",
    "            text = self.clean_utf8(text)\n",
    "        return text\n",
    "    def clean_strip(self, text):\n",
    "        return text.strip()\n",
    "    def clean_utf8(self,text):\n",
    "        text = text.replace(u'\\uf633', '')\n",
    "        text = text.replace(u'\\u200b', '')\n",
    "        text = text.replace(u'\\u200f', '')\n",
    "        return text"
   ]
  },
  {
   "cell_type": "code",
   "execution_count": 6,
   "metadata": {},
   "outputs": [],
   "source": [
    "def spider(query, pn, output_file):\n",
    "    pn*=10\n",
    "    keyword = quote(query.encode('gbk'))\n",
    "    url = f'https://zhidao.baidu.com/search?lm=0&rn=10&pn={pn}&fr=search&ie=gbk&word={keyword}'\n",
    "\n",
    "    headers = {\n",
    "        'User-Agent': 'Mozilla/5.0 (Macintosh; Intel Mac OS X 10_14_6) AppleWebKit/537.36 (KHTML, like Gecko) Chrome/90.0.4430.212 Safari/537.36',\n",
    "        'Cookie': 'BAIDUID=18581A93B7660CCE2EF45F5C9AF78D5D:FG=1; __yjs_duid=1_5a656be8e909a5ab1dc8e6c51a171ff51620382781035; BIDUPSID=18581A93B7660CCE2EF45F5C9AF78D5D; PSTM=1620390429; BDSFRCVID_BFESS=a1POJeC62mInKaverYnGo6QQ_RiR2Y7TH6ao_I6yuPDV6U_ZuVjhEG0PVf8g0KA-hILjogKK3gOTH4PF_2uxOjjg8UtVJeC6EG0Ptf8g0M5; H_BDCLCKID_SF_BFESS=JbPtoD_yfIvafJjYhKTMbJt3-xrHKI62aKDsQI3gBhcqEIL45fJa3-tpbq5xt-juJTQr2prSypT8fxbSj4Qo2x4EQUbyQT3Q5KoaafjSBp5nhMJ_3j7JDMP0qfAjhlcy523iob3vQpPMVhQ3DRoWXPIqbN7P-p5Z5mAqKl0MLPbtbb0xXj_0D6OLDGA8t6ks-DTbB4oHK--_qnTz-4L_5-_e-xQyetJyaR3EWhRvWJ5TMCoz-UoUjqD8K4JmKUuJMeJrBhRgQxKbShPC-tPaj5LFK4oehx7n365EBIO13l02Vbc9e-t2yU_VKHjut4RMW20e0h7mWIbmsxA45J7cM4IseboJLfT-0bc4KKJxbnLWeIJEjjCKj6OyjHLjJTPj-6TKWDP8Kb7VbPTuyUnkbfJBDl5QyMbltKTHKKQXBCb08hR2bPoAeM47yajK25o72TcdK43JbJ7is-8wy5rpQT8rbtFOK5OibCrWBPOTab3vOIOTXpO1jh8zBN5thURB2DkO-4bCWJ5TMl5jDh3Mb6ksD-Ftqj_OtJ-foDKbf-OKJt5kq4bohjPw5mc9BtQmJJu80JRgHRrqqRbT5xFM2RFBDlQNa-0fQg-q3R79fR6-SfoLbJba-JFT-n370x-jLnbOVn0MW-5DVp3gMtnJyUnybPnnBT3T3H8HL4nv2JcJbM5m3x6qLTKkQN3T-PKO5bRu_CF5JIPMbD0menJb5ICq5f7-etJXfKCDbp7F5l8-hR6VhxRH54LXWfTx255ILGONBx_-yC3xOKQphpnzjRF00-OptqQdyjTpBJnN3KJmSRL9bT3vLDuJytvB2-biWb7M2MbdJUJP_IoG2Mn8M4bb3qOpBtQmJeTxoUJ25DnJhhCGe4bK-TryDHtfJfK; BDORZ=B490B5EBF6F3CD402E515D22BCDA1598; H_PS_PSSID=34099_31254_33848_33773_33607; delPer=0; BAIDUID_BFESS=EC0B8CB2E5DB2C252FE4F1A4011CDAD8:FG=1; PSINO=2; BA_HECTOR=8ka520a1812g25a0u31gc1pgs0r; ZD_ENTRY=empty; Hm_lvt_6859ce5aaf00fb00387e6434e4fcc925=1621172136,1623254974; Hm_lpvt_6859ce5aaf00fb00387e6434e4fcc925=1623254974; shitong_key_id=2; ab_sr=1.0.1_OTBiZTEzY2RmMWM3MWM1MWNkMDE4MzIwNjllOTJkYmY2M2FiN2UyZGFmYzJjMzllY2FhY2MwMTBjZDI5NzAzZDAxYzVlMzQ2Y2I2YTQyMTkyMWIxNmRhOWUxMTg3ZWU5MGY4Zjc2MmYyOGU0YjIxZmM1ZWMwNzY0ZWYzYzk0MDc1YjFmMTI3ODUyZjg2NmYyNjQ2MDU3MjRjYjg1NjU2Mg==; shitong_data=7d3434b10335de90105aee880b6976138ba670eb5ab5dfec1ec7f6fdead89d6526d65dacb8a6ec84de87e8a3bf8d823c50a8175b16a3745ff826feb07592236f5b646786f633ff511100475de3f136c051560bb904a45f5b5fab2e3376f81eee20967d70e060f03de9793416fa71e0f37a7b315109d2dbfad098fad82b5313db; shitong_sign=86830a0e'\n",
    "    }\n",
    "\n",
    "    wb_data = requests.request(\"GET\", url, headers=headers, timeout=10)\n",
    "    wb_data.encoding = 'gbk'\n",
    "\n",
    "    html = wb_data.text\n",
    "\n",
    "    #new_html = html.encode('gbk')\n",
    "\n",
    "    new_html = html.replace('<br />', '\\n').replace('<p>', '\\n').replace('</p>', '\\n').replace('<br>', '\\n')\n",
    "\n",
    "    #save_path = f'{output_dir}/{query}_{pn}.html'\n",
    "    save_path = output_file\n",
    "    logging.info(f'save {query} to {save_path}')\n",
    "    with open(save_path, 'w') as f:\n",
    "        ## TODO\n",
    "        try:\n",
    "            f.write(new_html)\n",
    "        except:\n",
    "            logging.info(f'save {query} to {save_path} error!')\n",
    "    soup = BeautifulSoup(new_html, 'html.parser')\n",
    "    ret = []\n",
    "    for li in soup.find_all('a', attrs={'class':'ti'}):\n",
    "        ret.append(li.text)\n",
    "    logging.info(f'get {len(ret)}')\n",
    "    return ret\n",
    "\n",
    "def sleep(bound=3, mu=5, sigma=10):\n",
    "    import time\n",
    "    import random\n",
    "    t = -1\n",
    "    while t<bound:\n",
    "        t = random.normalvariate(5, 10)\n",
    "    time.sleep(t)"
   ]
  },
  {
   "cell_type": "code",
   "execution_count": 7,
   "metadata": {},
   "outputs": [
    {
     "name": "stdout",
     "output_type": "stream",
     "text": [
      "342077\n"
     ]
    }
   ],
   "source": [
    "query_lst = []\n",
    "def take_all_queries_from_dict(d):\n",
    "    ret = []\n",
    "    for k in d:\n",
    "        dl = d[k]\n",
    "        if type(dl)==type([]):\n",
    "            for dq in dl:\n",
    "                ret.append(dq)\n",
    "        else:\n",
    "            ret.extend(take_all_queries_from_dict(dl))\n",
    "    return ret\n",
    "for k in raw_data:\n",
    "    d = raw_data[k]\n",
    "    ret = take_all_queries_from_dict(d)\n",
    "    query_lst.extend(ret)\n",
    "print(len(query_lst))"
   ]
  },
  {
   "cell_type": "code",
   "execution_count": 10,
   "metadata": {},
   "outputs": [],
   "source": [
    "query_lst = sorted(list(set(query_lst)))"
   ]
  },
  {
   "cell_type": "code",
   "execution_count": 11,
   "metadata": {},
   "outputs": [],
   "source": [
    "filter_out = Filter()\n",
    "cleaner = Cleaner()"
   ]
  },
  {
   "cell_type": "code",
   "execution_count": 12,
   "metadata": {},
   "outputs": [],
   "source": [
    "new_query_lst = [cleaner(q) for q in query_lst if not filter_out(q) ]\n",
    "query_lst = new_query_lst\n",
    "query_lst = sorted(list(set(query_lst)))"
   ]
  },
  {
   "cell_type": "code",
   "execution_count": 13,
   "metadata": {},
   "outputs": [
    {
     "data": {
      "text/plain": [
       "205695"
      ]
     },
     "execution_count": 13,
     "metadata": {},
     "output_type": "execute_result"
    }
   ],
   "source": [
    "len(query_lst)"
   ]
  },
  {
   "cell_type": "code",
   "execution_count": 14,
   "metadata": {},
   "outputs": [],
   "source": [
    "output_dir = './htmls_200w/'\n",
    "os.system(f'mkdir -p {output_dir}')\n",
    "query_lst = sorted(query_lst)"
   ]
  },
  {
   "cell_type": "code",
   "execution_count": 15,
   "metadata": {},
   "outputs": [],
   "source": [
    "logger = init_logger('./log_htmls_200w.txt')"
   ]
  },
  {
   "cell_type": "raw",
   "metadata": {},
   "source": [
    "results = {}"
   ]
  },
  {
   "cell_type": "code",
   "execution_count": 33,
   "metadata": {},
   "outputs": [
    {
     "data": {
      "text/plain": [
       "2204"
      ]
     },
     "execution_count": 33,
     "metadata": {},
     "output_type": "execute_result"
    }
   ],
   "source": [
    "len(results)"
   ]
  },
  {
   "cell_type": "code",
   "execution_count": 34,
   "metadata": {},
   "outputs": [],
   "source": [
    "#continue_n = 7283\n",
    "continue_n = 2204"
   ]
  },
  {
   "cell_type": "code",
   "execution_count": 35,
   "metadata": {},
   "outputs": [
    {
     "data": {
      "text/plain": [
       "'./htmls_200w/'"
      ]
     },
     "execution_count": 35,
     "metadata": {},
     "output_type": "execute_result"
    }
   ],
   "source": [
    "output_dir"
   ]
  },
  {
   "cell_type": "code",
   "execution_count": null,
   "metadata": {
    "scrolled": true
   },
   "outputs": [
    {
     "name": "stdout",
     "output_type": "stream",
     "text": [
      "'gbk' codec can't encode character '\\u200e' in position 9: illegal multibyte sequence\n",
      "'gbk' codec can't encode character '\\u200e' in position 9: illegal multibyte sequence\n",
      "'gbk' codec can't encode character '\\u200e' in position 9: illegal multibyte sequence\n",
      "'gbk' codec can't encode character '\\u200e' in position 9: illegal multibyte sequence\n",
      "'gbk' codec can't encode character '\\u200e' in position 9: illegal multibyte sequence\n"
     ]
    },
    {
     "name": "stderr",
     "output_type": "stream",
     "text": [
      "2022-09-30 04:20:59:DEBUG:>>>Starting new HTTPS connection (1): zhidao.baidu.com:443\n",
      "2022-09-30 04:21:01:DEBUG:>>>https://zhidao.baidu.com:443 \"GET /search?lm=0&rn=10&pn=0&fr=search&ie=gbk&word=2022%D6%D0%B9%FA%CA%AE%B4%F3%C3%C5%B4%B0%C6%B7%C5%C6%D3%D0%C4%C4%D0%A9%3F HTTP/1.1\" 200 None\n",
      "2022-09-30 04:21:02:INFO:>>>save 2022中国十大门窗品牌有哪些? to ./htmls_200w//2205_0.html\n",
      "2022-09-30 04:21:02:INFO:>>>get 11\n",
      "2022-09-30 04:21:10:DEBUG:>>>Starting new HTTPS connection (1): zhidao.baidu.com:443\n",
      "2022-09-30 04:21:12:DEBUG:>>>https://zhidao.baidu.com:443 \"GET /search?lm=0&rn=10&pn=10&fr=search&ie=gbk&word=2022%D6%D0%B9%FA%CA%AE%B4%F3%C3%C5%B4%B0%C6%B7%C5%C6%D3%D0%C4%C4%D0%A9%3F HTTP/1.1\" 200 None\n",
      "2022-09-30 04:21:12:INFO:>>>save 2022中国十大门窗品牌有哪些? to ./htmls_200w//2205_1.html\n",
      "2022-09-30 04:21:12:INFO:>>>get 10\n",
      "2022-09-30 04:21:41:DEBUG:>>>Starting new HTTPS connection (1): zhidao.baidu.com:443\n",
      "2022-09-30 04:21:43:DEBUG:>>>https://zhidao.baidu.com:443 \"GET /search?lm=0&rn=10&pn=20&fr=search&ie=gbk&word=2022%D6%D0%B9%FA%CA%AE%B4%F3%C3%C5%B4%B0%C6%B7%C5%C6%D3%D0%C4%C4%D0%A9%3F HTTP/1.1\" 200 None\n",
      "2022-09-30 04:21:43:INFO:>>>save 2022中国十大门窗品牌有哪些? to ./htmls_200w//2205_2.html\n",
      "2022-09-30 04:21:43:INFO:>>>get 10\n",
      "2022-09-30 04:22:10:DEBUG:>>>Starting new HTTPS connection (1): zhidao.baidu.com:443\n",
      "2022-09-30 04:22:12:DEBUG:>>>https://zhidao.baidu.com:443 \"GET /search?lm=0&rn=10&pn=200&fr=search&ie=gbk&word=2022%D6%D0%B9%FA%CA%AE%B4%F3%C3%C5%B4%B0%C6%B7%C5%C6%D3%D0%C4%C4%D0%A9%3F HTTP/1.1\" 200 None\n",
      "2022-09-30 04:22:12:INFO:>>>save 2022中国十大门窗品牌有哪些? to ./htmls_200w//2205_20.html\n",
      "2022-09-30 04:22:12:INFO:>>>get 10\n",
      "2022-09-30 04:22:16:DEBUG:>>>Starting new HTTPS connection (1): zhidao.baidu.com:443\n",
      "2022-09-30 04:22:18:DEBUG:>>>https://zhidao.baidu.com:443 \"GET /search?lm=0&rn=10&pn=700&fr=search&ie=gbk&word=2022%D6%D0%B9%FA%CA%AE%B4%F3%C3%C5%B4%B0%C6%B7%C5%C6%D3%D0%C4%C4%D0%A9%3F HTTP/1.1\" 200 None\n",
      "2022-09-30 04:22:18:INFO:>>>save 2022中国十大门窗品牌有哪些? to ./htmls_200w//2205_70.html\n",
      "2022-09-30 04:22:18:INFO:>>>get 10\n",
      "2022-09-30 04:22:55:DEBUG:>>>Starting new HTTPS connection (1): zhidao.baidu.com:443\n",
      "2022-09-30 04:22:57:DEBUG:>>>https://zhidao.baidu.com:443 \"GET /search?lm=0&rn=10&pn=0&fr=search&ie=gbk&word=2022%C1%D9%B4%B2%D2%BD%D1%A7%B0%FC%C0%A8%C4%C4%D0%A9%D7%A8%D2%B5%20%CA%B2%C3%B4%D7%A8%D2%B5%BE%CD%D2%B5%C7%B0%BE%B0%BA%C3 HTTP/1.1\" 200 None\n",
      "2022-09-30 04:22:57:INFO:>>>save 2022临床医学包括哪些专业 什么专业就业前景好 to ./htmls_200w//2206_0.html\n",
      "2022-09-30 04:22:57:INFO:>>>get 10\n",
      "2022-09-30 04:23:09:DEBUG:>>>Starting new HTTPS connection (1): zhidao.baidu.com:443\n",
      "2022-09-30 04:23:11:DEBUG:>>>https://zhidao.baidu.com:443 \"GET /search?lm=0&rn=10&pn=10&fr=search&ie=gbk&word=2022%C1%D9%B4%B2%D2%BD%D1%A7%B0%FC%C0%A8%C4%C4%D0%A9%D7%A8%D2%B5%20%CA%B2%C3%B4%D7%A8%D2%B5%BE%CD%D2%B5%C7%B0%BE%B0%BA%C3 HTTP/1.1\" 200 None\n",
      "2022-09-30 04:23:11:INFO:>>>save 2022临床医学包括哪些专业 什么专业就业前景好 to ./htmls_200w//2206_1.html\n",
      "2022-09-30 04:23:11:INFO:>>>get 10\n",
      "2022-09-30 04:23:17:DEBUG:>>>Starting new HTTPS connection (1): zhidao.baidu.com:443\n",
      "2022-09-30 04:23:19:DEBUG:>>>https://zhidao.baidu.com:443 \"GET /search?lm=0&rn=10&pn=20&fr=search&ie=gbk&word=2022%C1%D9%B4%B2%D2%BD%D1%A7%B0%FC%C0%A8%C4%C4%D0%A9%D7%A8%D2%B5%20%CA%B2%C3%B4%D7%A8%D2%B5%BE%CD%D2%B5%C7%B0%BE%B0%BA%C3 HTTP/1.1\" 200 None\n",
      "2022-09-30 04:23:19:INFO:>>>save 2022临床医学包括哪些专业 什么专业就业前景好 to ./htmls_200w//2206_2.html\n",
      "2022-09-30 04:23:19:INFO:>>>get 10\n",
      "2022-09-30 04:23:22:DEBUG:>>>Starting new HTTPS connection (1): zhidao.baidu.com:443\n",
      "2022-09-30 04:23:23:DEBUG:>>>https://zhidao.baidu.com:443 \"GET /search?lm=0&rn=10&pn=200&fr=search&ie=gbk&word=2022%C1%D9%B4%B2%D2%BD%D1%A7%B0%FC%C0%A8%C4%C4%D0%A9%D7%A8%D2%B5%20%CA%B2%C3%B4%D7%A8%D2%B5%BE%CD%D2%B5%C7%B0%BE%B0%BA%C3 HTTP/1.1\" 200 None\n",
      "2022-09-30 04:23:23:INFO:>>>save 2022临床医学包括哪些专业 什么专业就业前景好 to ./htmls_200w//2206_20.html\n",
      "2022-09-30 04:23:24:INFO:>>>get 10\n",
      "2022-09-30 04:23:36:DEBUG:>>>Starting new HTTPS connection (1): zhidao.baidu.com:443\n",
      "2022-09-30 04:23:37:DEBUG:>>>https://zhidao.baidu.com:443 \"GET /search?lm=0&rn=10&pn=700&fr=search&ie=gbk&word=2022%C1%D9%B4%B2%D2%BD%D1%A7%B0%FC%C0%A8%C4%C4%D0%A9%D7%A8%D2%B5%20%CA%B2%C3%B4%D7%A8%D2%B5%BE%CD%D2%B5%C7%B0%BE%B0%BA%C3 HTTP/1.1\" 200 None\n",
      "2022-09-30 04:23:37:INFO:>>>save 2022临床医学包括哪些专业 什么专业就业前景好 to ./htmls_200w//2206_70.html\n",
      "2022-09-30 04:23:37:INFO:>>>get 5\n",
      "2022-09-30 04:24:11:DEBUG:>>>Starting new HTTPS connection (1): zhidao.baidu.com:443\n",
      "2022-09-30 04:24:12:DEBUG:>>>https://zhidao.baidu.com:443 \"GET /search?lm=0&rn=10&pn=0&fr=search&ie=gbk&word=2022%BE%C5%BD%AD%E5%A5%CF%AA%C7%F8%B5%DA%C8%FD%BD%EC%C6%FB%B3%B5%D5%B9%D6%D8%B0%F5%C0%B4%CF%AE HTTP/1.1\" 200 None\n",
      "2022-09-30 04:24:12:INFO:>>>save 2022九江濂溪区第三届汽车展重磅来袭 to ./htmls_200w//2207_0.html\n",
      "2022-09-30 04:24:12:INFO:>>>get 9\n",
      "2022-09-30 04:24:39:DEBUG:>>>Starting new HTTPS connection (1): zhidao.baidu.com:443\n",
      "2022-09-30 04:24:41:DEBUG:>>>https://zhidao.baidu.com:443 \"GET /search?lm=0&rn=10&pn=10&fr=search&ie=gbk&word=2022%BE%C5%BD%AD%E5%A5%CF%AA%C7%F8%B5%DA%C8%FD%BD%EC%C6%FB%B3%B5%D5%B9%D6%D8%B0%F5%C0%B4%CF%AE HTTP/1.1\" 200 None\n",
      "2022-09-30 04:24:41:INFO:>>>save 2022九江濂溪区第三届汽车展重磅来袭 to ./htmls_200w//2207_1.html\n",
      "2022-09-30 04:24:41:INFO:>>>get 9\n",
      "2022-09-30 04:25:03:DEBUG:>>>Starting new HTTPS connection (1): zhidao.baidu.com:443\n",
      "2022-09-30 04:25:05:DEBUG:>>>https://zhidao.baidu.com:443 \"GET /search?lm=0&rn=10&pn=20&fr=search&ie=gbk&word=2022%BE%C5%BD%AD%E5%A5%CF%AA%C7%F8%B5%DA%C8%FD%BD%EC%C6%FB%B3%B5%D5%B9%D6%D8%B0%F5%C0%B4%CF%AE HTTP/1.1\" 200 None\n",
      "2022-09-30 04:25:05:INFO:>>>save 2022九江濂溪区第三届汽车展重磅来袭 to ./htmls_200w//2207_2.html\n",
      "2022-09-30 04:25:05:INFO:>>>get 9\n",
      "2022-09-30 04:25:16:DEBUG:>>>Starting new HTTPS connection (1): zhidao.baidu.com:443\n",
      "2022-09-30 04:25:17:DEBUG:>>>https://zhidao.baidu.com:443 \"GET /search?lm=0&rn=10&pn=200&fr=search&ie=gbk&word=2022%BE%C5%BD%AD%E5%A5%CF%AA%C7%F8%B5%DA%C8%FD%BD%EC%C6%FB%B3%B5%D5%B9%D6%D8%B0%F5%C0%B4%CF%AE HTTP/1.1\" 200 None\n",
      "2022-09-30 04:25:17:INFO:>>>save 2022九江濂溪区第三届汽车展重磅来袭 to ./htmls_200w//2207_20.html\n",
      "2022-09-30 04:25:17:INFO:>>>get 9\n",
      "2022-09-30 04:25:24:DEBUG:>>>Starting new HTTPS connection (1): zhidao.baidu.com:443\n",
      "2022-09-30 04:25:26:DEBUG:>>>https://zhidao.baidu.com:443 \"GET /search?lm=0&rn=10&pn=700&fr=search&ie=gbk&word=2022%BE%C5%BD%AD%E5%A5%CF%AA%C7%F8%B5%DA%C8%FD%BD%EC%C6%FB%B3%B5%D5%B9%D6%D8%B0%F5%C0%B4%CF%AE HTTP/1.1\" 200 None\n",
      "2022-09-30 04:25:26:INFO:>>>save 2022九江濂溪区第三届汽车展重磅来袭 to ./htmls_200w//2207_70.html\n",
      "2022-09-30 04:25:26:INFO:>>>get 9\n",
      "2022-09-30 04:25:43:DEBUG:>>>Starting new HTTPS connection (1): zhidao.baidu.com:443\n",
      "2022-09-30 04:25:45:DEBUG:>>>https://zhidao.baidu.com:443 \"GET /search?lm=0&rn=10&pn=0&fr=search&ie=gbk&word=2022%CA%C2%D2%B5%B5%A5%CE%BB%B8%F6%C8%CB%B9%A4%D7%F7%D7%DC%BD%E15%C6%AA HTTP/1.1\" 200 None\n",
      "2022-09-30 04:25:46:INFO:>>>save 2022事业单位个人工作总结5篇 to ./htmls_200w//2208_0.html\n",
      "2022-09-30 04:25:46:INFO:>>>get 10\n",
      "2022-09-30 04:25:48:DEBUG:>>>Starting new HTTPS connection (1): zhidao.baidu.com:443\n",
      "2022-09-30 04:25:50:DEBUG:>>>https://zhidao.baidu.com:443 \"GET /search?lm=0&rn=10&pn=10&fr=search&ie=gbk&word=2022%CA%C2%D2%B5%B5%A5%CE%BB%B8%F6%C8%CB%B9%A4%D7%F7%D7%DC%BD%E15%C6%AA HTTP/1.1\" 200 None\n",
      "2022-09-30 04:25:50:INFO:>>>save 2022事业单位个人工作总结5篇 to ./htmls_200w//2208_1.html\n",
      "2022-09-30 04:25:50:INFO:>>>get 10\n",
      "2022-09-30 04:26:02:DEBUG:>>>Starting new HTTPS connection (1): zhidao.baidu.com:443\n",
      "2022-09-30 04:26:04:DEBUG:>>>https://zhidao.baidu.com:443 \"GET /search?lm=0&rn=10&pn=20&fr=search&ie=gbk&word=2022%CA%C2%D2%B5%B5%A5%CE%BB%B8%F6%C8%CB%B9%A4%D7%F7%D7%DC%BD%E15%C6%AA HTTP/1.1\" 200 None\n",
      "2022-09-30 04:26:05:INFO:>>>save 2022事业单位个人工作总结5篇 to ./htmls_200w//2208_2.html\n",
      "2022-09-30 04:26:05:INFO:>>>get 10\n",
      "2022-09-30 04:26:06:DEBUG:>>>Starting new HTTPS connection (1): zhidao.baidu.com:443\n",
      "2022-09-30 04:26:08:DEBUG:>>>https://zhidao.baidu.com:443 \"GET /search?lm=0&rn=10&pn=200&fr=search&ie=gbk&word=2022%CA%C2%D2%B5%B5%A5%CE%BB%B8%F6%C8%CB%B9%A4%D7%F7%D7%DC%BD%E15%C6%AA HTTP/1.1\" 200 None\n",
      "2022-09-30 04:26:08:INFO:>>>save 2022事业单位个人工作总结5篇 to ./htmls_200w//2208_20.html\n",
      "2022-09-30 04:26:08:INFO:>>>get 10\n",
      "2022-09-30 04:26:18:DEBUG:>>>Starting new HTTPS connection (1): zhidao.baidu.com:443\n",
      "2022-09-30 04:26:19:DEBUG:>>>https://zhidao.baidu.com:443 \"GET /search?lm=0&rn=10&pn=700&fr=search&ie=gbk&word=2022%CA%C2%D2%B5%B5%A5%CE%BB%B8%F6%C8%CB%B9%A4%D7%F7%D7%DC%BD%E15%C6%AA HTTP/1.1\" 200 None\n"
     ]
    },
    {
     "name": "stderr",
     "output_type": "stream",
     "text": [
      "2022-09-30 04:26:20:INFO:>>>save 2022事业单位个人工作总结5篇 to ./htmls_200w//2208_70.html\n",
      "2022-09-30 04:26:20:INFO:>>>get 1\n",
      "2022-09-30 04:26:56:DEBUG:>>>Starting new HTTPS connection (1): zhidao.baidu.com:443\n",
      "2022-09-30 04:26:58:DEBUG:>>>https://zhidao.baidu.com:443 \"GET /search?lm=0&rn=10&pn=0&fr=search&ie=gbk&word=2022%CA%C2%D2%B5%B5%A5%CE%BB%C8%CB%D4%B1%C4%EA%B6%C8%BF%BC%BA%CB%B9%A4%D7%F7%D7%DC%BD%E1 HTTP/1.1\" 200 None\n",
      "2022-09-30 04:26:58:INFO:>>>save 2022事业单位人员年度考核工作总结 to ./htmls_200w//2209_0.html\n",
      "2022-09-30 04:26:58:INFO:>>>get 10\n"
     ]
    }
   ],
   "source": [
    "for n, query in enumerate(query_lst):\n",
    "    if n<continue_n:\n",
    "        continue\n",
    "    ret = {}\n",
    "    for pn in [0,1,2,20,70]:\n",
    "        output_file = f'{output_dir}/{n}_{pn}.html'\n",
    "        try:\n",
    "            a = spider(query, pn, output_file)\n",
    "            ret[pn] = a\n",
    "        except Exception as e:\n",
    "            print(e)\n",
    "        sleep(1,1,10)\n",
    "    results[query] = ret\n",
    "    sleep(bound=10)"
   ]
  },
  {
   "cell_type": "code",
   "execution_count": null,
   "metadata": {},
   "outputs": [],
   "source": []
  },
  {
   "cell_type": "code",
   "execution_count": 25,
   "metadata": {},
   "outputs": [
    {
     "data": {
      "text/plain": [
       "2204"
      ]
     },
     "execution_count": 25,
     "metadata": {},
     "output_type": "execute_result"
    }
   ],
   "source": [
    "n"
   ]
  },
  {
   "cell_type": "code",
   "execution_count": null,
   "metadata": {},
   "outputs": [],
   "source": []
  },
  {
   "cell_type": "code",
   "execution_count": 23,
   "metadata": {},
   "outputs": [],
   "source": [
    "len(results)\n",
    "all_p_n = 0\n",
    "for d in results:\n",
    "    for k in results[d]:\n",
    "        all_p_n+=len(results[d][k])"
   ]
  },
  {
   "cell_type": "code",
   "execution_count": 126,
   "metadata": {},
   "outputs": [],
   "source": [
    "with open('./resutls_20220927.pkl', 'wb') as f:\n",
    "    pickle.dump(results, f)"
   ]
  },
  {
   "cell_type": "code",
   "execution_count": 127,
   "metadata": {},
   "outputs": [
    {
     "data": {
      "text/plain": [
       "342077"
      ]
     },
     "execution_count": 127,
     "metadata": {},
     "output_type": "execute_result"
    }
   ],
   "source": [
    "all_p_n"
   ]
  }
 ],
 "metadata": {
  "kernelspec": {
   "display_name": "Python 3",
   "language": "python",
   "name": "python3"
  },
  "language_info": {
   "codemirror_mode": {
    "name": "ipython",
    "version": 3
   },
   "file_extension": ".py",
   "mimetype": "text/x-python",
   "name": "python",
   "nbconvert_exporter": "python",
   "pygments_lexer": "ipython3",
   "version": "3.7.0"
  }
 },
 "nbformat": 4,
 "nbformat_minor": 2
}
